{
 "cells": [
  {
   "cell_type": "code",
   "execution_count": null,
   "id": "0a98323e",
   "metadata": {},
   "outputs": [],
   "source": [
    "from emgstatedetect.providers.biopatrec.biopatrec_classes import BioPatRecRecordingDataset\n",
    "from emgstatedetect.providers.biopatrec.biopatrec_libemg_adapters.adapter_10mov4chFU_AFEs import Device, AnalogFrontEnd_UntargetedForearm"
   ]
  },
  {
   "cell_type": "code",
   "execution_count": null,
   "id": "1861e91f",
   "metadata": {},
   "outputs": [],
   "source": [
    "dataset = BioPatRecRecordingDataset('10mov4chFU_AFEs', '10mov4chFU_AFEs', persist_source=True)\n",
    "\n",
    "TIADS1299_dataset = AnalogFrontEnd_UntargetedForearm(dataset_info=dataset.info, device=Device.ADS)\n",
    "\n",
    "TIADS1299_data = TIADS1299_dataset.prepare_data()\n",
    "TIADS1299_data = TIADS1299_data.isolate_data(\"subjects\", [0])"
   ]
  }
 ],
 "metadata": {
  "kernelspec": {
   "display_name": "Python 3",
   "language": "python",
   "name": "python3"
  },
  "language_info": {
   "name": "python",
   "version": "3.12.10"
  }
 },
 "nbformat": 4,
 "nbformat_minor": 5
}
