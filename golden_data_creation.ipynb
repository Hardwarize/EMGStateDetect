{
 "cells": [
  {
   "cell_type": "markdown",
   "id": "44321337",
   "metadata": {},
   "source": [
    "## Golden dataset generation using Label Studio\n",
    "\n",
    "At this point we will have in our local file system a folder with the filtered raw data. Now we should start the Label studio interface to extract the test segment for each signal (recording session) in our dataset.\n",
    "\n",
    "The Label studio interface should be executed from a terminal, not from this notebook. This is because we need later to access to the Label Studio API while the interface is running.\n",
    "\n",
    "The command that we must run in order to start the server is: \n",
    "\n",
    "```\n",
    "export LABEL_STUDIO_LOCAL_FILES_DOCUMENT_ROOT=/workspaces/EMGStateDetect/10mov4chFU_AFEs/ADS/\n",
    "\n",
    "export LABEL_STUDIO_LOCAL_FILES_SERVING_ENABLED=true\n",
    "\n",
    "label-studio start\n",
    "```\n",
    "\n",
    "Previously we need to install the required label studio packages:\n",
    "\n",
    "`pip install -q label-studio label-studio-sdk`"
   ]
  },
  {
   "cell_type": "code",
   "execution_count": null,
   "id": "60b9bae7",
   "metadata": {
    "vscode": {
     "languageId": "plaintext"
    }
   },
   "outputs": [],
   "source": [
    "# Define the URL where Label Studio is accessible and the API key for your user account\n",
    "LABEL_STUDIO_URL = 'http://localhost:8080'\n",
    "# API key is available at the Account & Settings > Access Tokens page in Label Studio UI\n",
    "API_KEY = 'XXXXXXXX'\n",
    "# Import the SDK and the client module\n",
    "from label_studio_sdk.client import LabelStudio\n",
    "# Connect to the Label Studio API and check the connection\n",
    "ls_client = LabelStudio(base_url=LABEL_STUDIO_URL, api_key=API_KEY)"
   ]
  },
  {
   "cell_type": "code",
   "execution_count": null,
   "id": "05e8f2c5",
   "metadata": {
    "vscode": {
     "languageId": "plaintext"
    }
   },
   "outputs": [],
   "source": [
    "response = ls_client.projects.create(\n",
    "    title = \"Test Sets\",\n",
    "    description = \"This is a project created using the Label Studio SDK\",\n",
    "    label_config = \"\"\"\n",
    "    <View>\n",
    "        <Header value=\"Time Series classification\"\n",
    "                style=\"font-weight: normal\"/>\n",
    "        <TimeSeriesLabels name=\"label\" toName=\"ts\">\n",
    "            <Label value=\"SegmentOfInterest\"/>\n",
    "        </TimeSeriesLabels>\n",
    "        <TimeSeries name=\"ts\" value=\"$csv\" valueType=\"url\">\n",
    "            <Channel column=\"ch0\" height=\"40\" showAxis=\"false\" fixedScale=\"false\"/>\n",
    "            <Channel column=\"ch1\" height=\"40\" showAxis=\"false\" fixedScale=\"false\"/>\n",
    "            <Channel column=\"ch2\" height=\"40\" showAxis=\"false\" fixedScale=\"false\"/>\n",
    "            <Channel column=\"ch3\" height=\"40\" showAxis=\"false\" fixedScale=\"false\"/>\n",
    "        </TimeSeries>\n",
    "    </View>\n",
    "    \"\"\"\n",
    ")\n",
    "\n",
    "project_id = response.id"
   ]
  },
  {
   "cell_type": "code",
   "execution_count": null,
   "id": "bd490c2d",
   "metadata": {
    "vscode": {
     "languageId": "plaintext"
    }
   },
   "outputs": [],
   "source": [
    "# IN case we have to delete a project\n",
    "ls_client.projects.delete(id=12)"
   ]
  },
  {
   "cell_type": "code",
   "execution_count": null,
   "id": "70a57127",
   "metadata": {
    "vscode": {
     "languageId": "plaintext"
    }
   },
   "outputs": [],
   "source": [
    "response = ls_client.import_storage.local.create(project=project_id, path='/workspaces/EMGStateDetect/10mov4chFU_AFEs/ADS/filtered/', use_blob_urls=True)\n",
    "local_storage_id = response.id\n",
    "ls_client.import_storage.local.sync(id=local_storage_id)"
   ]
  },
  {
   "cell_type": "code",
   "execution_count": null,
   "id": "aaaebd44",
   "metadata": {
    "vscode": {
     "languageId": "plaintext"
    }
   },
   "outputs": [],
   "source": [
    "response = ls_client.tasks.list(project=13)\n",
    "\n",
    "test_set_signal_segments = []\n",
    "\n",
    "for i in response.items:\n",
    "    match = re.search(r'Subject_(\\d+)/C_(\\d+)\\.csv$', i.storage_filename)\n",
    "    print(i.storage_filename)\n",
    "    subject_number = int(match.group(1))\n",
    "    class_number = int(match.group(2))\n",
    "    test_set_signal_segments.append(\n",
    "        [\n",
    "            subject_number,\n",
    "            class_number,\n",
    "            i.annotations[0]['result'][0]['value']['start'],\n",
    "            i.annotations[0]['result'][0]['value']['end'],\n",
    "        ]\n",
    "    )\n",
    "\n",
    "np.savetxt(\n",
    "    '/workspaces/EMGStateDetect/10mov4chFU_AFEs/ADS/golden_set/splits.csv',\n",
    "    np.array(test_set_signal_segments),\n",
    "    fmt='%d',\n",
    "    delimiter=',',\n",
    "    header='subject,class,start,end',\n",
    "    comments=''\n",
    ")\n",
    "\n",
    "for subject, class_, start, end in test_set_signal_segments:\n",
    "    tmp_odh = TIADS1299_dataset.raw_odh.isolate_data(\"subjects\", [subject])\n",
    "    isolated_odh = tmp_odh.isolate_data(\"classes\", [class_])\n",
    "    golden_split = isolated_odh.data[0][start: end, :]\n",
    "    os.makedirs(f'/workspaces/EMGStateDetect/10mov4chFU_AFEs/ADS/golden_set/data/', exist_ok=True)\n",
    "    np.savetxt(\n",
    "        f'/workspaces/EMGStateDetect/10mov4chFU_AFEs/ADS/golden_set/data/S_{subject}_C_{class_}.csv',\n",
    "        golden_split\n",
    "    )\n",
    "    "
   ]
  }
 ],
 "metadata": {
  "language_info": {
   "name": "python"
  }
 },
 "nbformat": 4,
 "nbformat_minor": 5
}
